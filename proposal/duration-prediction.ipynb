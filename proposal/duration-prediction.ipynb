{
 "cells": [
  {
   "cell_type": "code",
   "execution_count": 1,
   "id": "69f0e75261ef1ccb",
   "metadata": {
    "ExecuteTime": {
     "end_time": "2025-03-16T12:39:25.740286Z",
     "start_time": "2025-03-16T12:39:24.342380Z"
    },
    "collapsed": false
   },
   "outputs": [
    {
     "name": "stdout",
     "output_type": "stream",
     "text": [
      "Collecting seaborn\r\n",
      "  Using cached seaborn-0.13.2-py3-none-any.whl.metadata (5.4 kB)\r\n",
      "Requirement already satisfied: numpy!=1.24.0,>=1.20 in ./.venv/lib/python3.9/site-packages (from seaborn) (2.0.2)\r\n",
      "Requirement already satisfied: pandas>=1.2 in ./.venv/lib/python3.9/site-packages (from seaborn) (2.2.3)\r\n",
      "Requirement already satisfied: matplotlib!=3.6.1,>=3.4 in ./.venv/lib/python3.9/site-packages (from seaborn) (3.9.4)\r\n",
      "Requirement already satisfied: contourpy>=1.0.1 in ./.venv/lib/python3.9/site-packages (from matplotlib!=3.6.1,>=3.4->seaborn) (1.3.0)\r\n",
      "Requirement already satisfied: cycler>=0.10 in ./.venv/lib/python3.9/site-packages (from matplotlib!=3.6.1,>=3.4->seaborn) (0.12.1)\r\n",
      "Requirement already satisfied: fonttools>=4.22.0 in ./.venv/lib/python3.9/site-packages (from matplotlib!=3.6.1,>=3.4->seaborn) (4.56.0)\r\n",
      "Requirement already satisfied: kiwisolver>=1.3.1 in ./.venv/lib/python3.9/site-packages (from matplotlib!=3.6.1,>=3.4->seaborn) (1.4.7)\r\n",
      "Requirement already satisfied: packaging>=20.0 in ./.venv/lib/python3.9/site-packages (from matplotlib!=3.6.1,>=3.4->seaborn) (24.2)\r\n",
      "Requirement already satisfied: pillow>=8 in ./.venv/lib/python3.9/site-packages (from matplotlib!=3.6.1,>=3.4->seaborn) (11.1.0)\r\n",
      "Requirement already satisfied: pyparsing>=2.3.1 in ./.venv/lib/python3.9/site-packages (from matplotlib!=3.6.1,>=3.4->seaborn) (3.2.1)\r\n",
      "Requirement already satisfied: python-dateutil>=2.7 in ./.venv/lib/python3.9/site-packages (from matplotlib!=3.6.1,>=3.4->seaborn) (2.9.0.post0)\r\n",
      "Requirement already satisfied: importlib-resources>=3.2.0 in ./.venv/lib/python3.9/site-packages (from matplotlib!=3.6.1,>=3.4->seaborn) (6.5.2)\r\n",
      "Requirement already satisfied: pytz>=2020.1 in ./.venv/lib/python3.9/site-packages (from pandas>=1.2->seaborn) (2025.1)\r\n",
      "Requirement already satisfied: tzdata>=2022.7 in ./.venv/lib/python3.9/site-packages (from pandas>=1.2->seaborn) (2025.1)\r\n",
      "Requirement already satisfied: zipp>=3.1.0 in ./.venv/lib/python3.9/site-packages (from importlib-resources>=3.2.0->matplotlib!=3.6.1,>=3.4->seaborn) (3.21.0)\r\n",
      "Requirement already satisfied: six>=1.5 in ./.venv/lib/python3.9/site-packages (from python-dateutil>=2.7->matplotlib!=3.6.1,>=3.4->seaborn) (1.17.0)\r\n",
      "Using cached seaborn-0.13.2-py3-none-any.whl (294 kB)\r\n",
      "Installing collected packages: seaborn\r\n",
      "Successfully installed seaborn-0.13.2\r\n",
      "\r\n",
      "\u001b[1m[\u001b[0m\u001b[34;49mnotice\u001b[0m\u001b[1;39;49m]\u001b[0m\u001b[39;49m A new release of pip is available: \u001b[0m\u001b[31;49m23.3.1\u001b[0m\u001b[39;49m -> \u001b[0m\u001b[32;49m25.0.1\u001b[0m\r\n",
      "\u001b[1m[\u001b[0m\u001b[34;49mnotice\u001b[0m\u001b[1;39;49m]\u001b[0m\u001b[39;49m To update, run: \u001b[0m\u001b[32;49mpip install --upgrade pip\u001b[0m\r\n"
     ]
    }
   ],
   "source": [
    "#!pip install seaborn"
   ]
  },
  {
   "cell_type": "code",
   "execution_count": 2,
   "id": "initial_id",
   "metadata": {
    "ExecuteTime": {
     "end_time": "2025-03-16T12:39:29.102075Z",
     "start_time": "2025-03-16T12:39:27.042148Z"
    },
    "collapsed": true
   },
   "outputs": [],
   "source": [
    "import pandas as pd # working with tabular data\n",
    "import pickle # for machine learning models\n",
    "import seaborn as sns # visualization\n",
    "import matplotlib.pyplot as plt # visualization\n",
    "\n",
    "from sklearn.feature_extraction import DictVectorizer # Machine Learning\n",
    "from sklearn.linear_model import LinearRegression # Machine Learning\n",
    "from sklearn.linear_model import Lasso # Regularization\n",
    "from sklearn.linear_model import Ridge # Regularization\n",
    "\n",
    "from sklearn.metrics import mean_squared_error # Loss Function"
   ]
  },
  {
   "cell_type": "code",
   "execution_count": 3,
   "id": "8a2c0b2298fd95d3",
   "metadata": {
    "ExecuteTime": {
     "end_time": "2025-03-16T12:39:42.070015Z",
     "start_time": "2025-03-16T12:39:40.901374Z"
    },
    "collapsed": false
   },
   "outputs": [
    {
     "name": "stderr",
     "output_type": "stream",
     "text": [
      "/Users/ayehninnkhine/PycharmProjects/mlflow-cpe393/.venv/lib/python3.9/site-packages/urllib3/__init__.py:35: NotOpenSSLWarning: urllib3 v2 only supports OpenSSL 1.1.1+, currently the 'ssl' module is compiled with 'LibreSSL 2.8.3'. See: https://github.com/urllib3/urllib3/issues/3020\n",
      "  warnings.warn(\n",
      "2025/03/16 19:39:42 INFO mlflow.tracking.fluent: Experiment with name 'mlops_nyc_taxi' does not exist. Creating a new experiment.\n"
     ]
    },
    {
     "data": {
      "text/plain": [
       "<Experiment: artifact_location='/Users/ayehninnkhine/PycharmProjects/mlflow-cpe393/mlruns/1', creation_time=1742128782056, experiment_id='1', last_update_time=1742128782056, lifecycle_stage='active', name='mlops_nyc_taxi', tags={}>"
      ]
     },
     "execution_count": 3,
     "metadata": {},
     "output_type": "execute_result"
    }
   ],
   "source": [
    "import mlflow\n",
    "\n",
    "# to hook up with MLFlow UI\n",
    "mlflow.set_tracking_uri(\"sqlite:///mlflow.db\")\n",
    "mlflow.set_experiment(\"mlops_nyc_taxi\") # choose a name for your experiment"
   ]
  },
  {
   "cell_type": "code",
   "execution_count": 4,
   "id": "f5bbf109e081c7bb",
   "metadata": {
    "ExecuteTime": {
     "end_time": "2025-03-16T12:41:30.570575Z",
     "start_time": "2025-03-16T12:41:23.303737Z"
    },
    "collapsed": false
   },
   "outputs": [
    {
     "name": "stdout",
     "output_type": "stream",
     "text": [
      "--2025-03-16 19:41:23--  https://d37ci6vzurychx.cloudfront.net/trip-data/yellow_tripdata_2022-01.parquet\r\n",
      "Resolving d37ci6vzurychx.cloudfront.net (d37ci6vzurychx.cloudfront.net)... 3.164.82.197, 3.164.82.160, 3.164.82.112, ...\r\n",
      "Connecting to d37ci6vzurychx.cloudfront.net (d37ci6vzurychx.cloudfront.net)|3.164.82.197|:443... connected.\r\n",
      "HTTP request sent, awaiting response... 200 OK\r\n",
      "Length: 38139949 (36M) [application/x-www-form-urlencoded]\r\n",
      "Saving to: ‘yellow_tripdata_2022-01.parquet’\r\n",
      "\r\n",
      "yellow_tripdata_202 100%[===================>]  36.37M  10.5MB/s    in 3.5s    \r\n",
      "\r\n",
      "2025-03-16 19:41:27 (10.5 MB/s) - ‘yellow_tripdata_2022-01.parquet’ saved [38139949/38139949]\r\n",
      "\r\n",
      "--2025-03-16 19:41:27--  https://d37ci6vzurychx.cloudfront.net/trip-data/yellow_tripdata_2022-02.parquet\r\n",
      "Reusing existing connection to d37ci6vzurychx.cloudfront.net:443.\r\n",
      "HTTP request sent, awaiting response... 200 OK\r\n",
      "Length: 45616512 (44M) [application/x-www-form-urlencoded]\r\n",
      "Saving to: ‘yellow_tripdata_2022-02.parquet’\r\n",
      "\r\n",
      "yellow_tripdata_202 100%[===================>]  43.50M  18.2MB/s    in 2.4s    \r\n",
      "\r\n",
      "2025-03-16 19:41:30 (18.2 MB/s) - ‘yellow_tripdata_2022-02.parquet’ saved [45616512/45616512]\r\n",
      "\r\n",
      "FINISHED --2025-03-16 19:41:30--\r\n",
      "Total wall clock time: 6.8s\r\n",
      "Downloaded: 2 files, 80M in 5.9s (13.6 MB/s)\r\n"
     ]
    }
   ],
   "source": [
    "!wget https://d37ci6vzurychx.cloudfront.net/trip-data/yellow_tripdata_2022-01.parquet https://d37ci6vzurychx.cloudfront.net/trip-data/yellow_tripdata_2022-02.parquet"
   ]
  },
  {
   "cell_type": "code",
   "execution_count": 5,
   "id": "6b2c8a8a4369d6c2",
   "metadata": {
    "ExecuteTime": {
     "end_time": "2025-03-16T12:42:23.438189Z",
     "start_time": "2025-03-16T12:42:23.435710Z"
    },
    "collapsed": false
   },
   "outputs": [],
   "source": [
    "def read_dataframe(filename):\n",
    "    if filename.endswith('.csv'):\n",
    "        df = pd.read_csv(filename)\n",
    "\n",
    "        df.tpep_dropoff_datetime = pd.to_datetime(df.tpep_dropoff_datetime)\n",
    "        df.tpep_pickup_datetime = pd.to_datetime(df.tpep_pickup_datetime)\n",
    "    elif filename.endswith('.parquet'):\n",
    "        df = pd.read_parquet(filename)\n",
    "\n",
    "    df['duration'] = df.tpep_dropoff_datetime - df.tpep_pickup_datetime\n",
    "    df.duration = df.duration.apply(lambda td: td.total_seconds() / 60)\n",
    "\n",
    "    df = df[(df.duration >= 1) & (df.duration <= 60)]\n",
    "\n",
    "    categorical = ['PULocationID', 'DOLocationID']\n",
    "    df[categorical] = df[categorical].astype(str)\n",
    "    \n",
    "    return df"
   ]
  },
  {
   "cell_type": "code",
   "execution_count": 6,
   "id": "f4a3eb6595cc7c02",
   "metadata": {
    "ExecuteTime": {
     "end_time": "2025-03-16T12:42:46.238750Z",
     "start_time": "2025-03-16T12:42:36.808654Z"
    },
    "collapsed": false
   },
   "outputs": [],
   "source": [
    "df_train = read_dataframe('yellow_tripdata_2022-01.parquet')\n",
    "df_val = read_dataframe('yellow_tripdata_2022-02.parquet')"
   ]
  },
  {
   "cell_type": "code",
   "execution_count": 7,
   "id": "d4f71a57fffaba5c",
   "metadata": {
    "ExecuteTime": {
     "end_time": "2025-03-16T12:42:49.836736Z",
     "start_time": "2025-03-16T12:42:49.833180Z"
    },
    "collapsed": false
   },
   "outputs": [
    {
     "data": {
      "text/plain": [
       "(2421440, 2918187)"
      ]
     },
     "execution_count": 7,
     "metadata": {},
     "output_type": "execute_result"
    }
   ],
   "source": [
    "len(df_train), len(df_val)"
   ]
  },
  {
   "cell_type": "code",
   "execution_count": 8,
   "id": "900a478304cd48c0",
   "metadata": {
    "ExecuteTime": {
     "end_time": "2025-03-16T12:45:26.486302Z",
     "start_time": "2025-03-16T12:45:25.558122Z"
    },
    "collapsed": false
   },
   "outputs": [],
   "source": [
    "df_train['PU_DO'] = df_train['PULocationID'] + '_' + df_train['DOLocationID']\n",
    "df_val['PU_DO'] = df_val['PULocationID'] + '_' + df_val['DOLocationID']"
   ]
  },
  {
   "cell_type": "code",
   "execution_count": 9,
   "id": "8b7f78edf56843c8",
   "metadata": {
    "ExecuteTime": {
     "end_time": "2025-03-16T12:45:44.967760Z",
     "start_time": "2025-03-16T12:45:34.871580Z"
    },
    "collapsed": false
   },
   "outputs": [],
   "source": [
    "categorical = ['PU_DO'] #'PULocationID', 'DOLocationID']\n",
    "numerical = ['trip_distance']\n",
    "\n",
    "dv = DictVectorizer()\n",
    "\n",
    "train_dicts = df_train[categorical + numerical].to_dict(orient='records')\n",
    "X_train = dv.fit_transform(train_dicts)\n",
    "\n",
    "val_dicts = df_val[categorical + numerical].to_dict(orient='records')\n",
    "X_val = dv.transform(val_dicts)"
   ]
  },
  {
   "cell_type": "code",
   "execution_count": 10,
   "id": "6097f8a680f5474f",
   "metadata": {
    "ExecuteTime": {
     "end_time": "2025-03-16T12:45:47.220635Z",
     "start_time": "2025-03-16T12:45:47.216488Z"
    },
    "collapsed": false
   },
   "outputs": [],
   "source": [
    "target = 'duration'\n",
    "y_train = df_train[target].values\n",
    "y_val = df_val[target].values"
   ]
  },
  {
   "cell_type": "code",
   "execution_count": 14,
   "id": "c37cf9c03e797939",
   "metadata": {
    "ExecuteTime": {
     "end_time": "2025-03-16T12:46:57.688380Z",
     "start_time": "2025-03-16T12:46:56.540954Z"
    },
    "collapsed": false
   },
   "outputs": [
    {
     "data": {
      "text/plain": [
       "30.585991358919788"
      ]
     },
     "execution_count": 14,
     "metadata": {},
     "output_type": "execute_result"
    }
   ],
   "source": [
    "lr = LinearRegression()\n",
    "lr.fit(X_train, y_train)\n",
    "\n",
    "y_pred = lr.predict(X_val)\n",
    "\n",
    "mean_squared_error(y_val, y_pred)"
   ]
  },
  {
   "cell_type": "code",
   "execution_count": 16,
   "id": "35ad188614e38ec9",
   "metadata": {
    "ExecuteTime": {
     "end_time": "2025-03-16T12:47:26.294040Z",
     "start_time": "2025-03-16T12:47:26.236764Z"
    },
    "collapsed": false
   },
   "outputs": [
    {
     "name": "stdout",
     "output_type": "stream",
     "text": [
      "Model successfully pickled.\n"
     ]
    }
   ],
   "source": [
    "with open('./lin_reg.bin', 'wb') as f_out: # wb means write binary mlops-zoomcamp/week_1/models\n",
    "    try:\n",
    "        # Pickle both the dictionary vectorizer and the linear regression model\n",
    "        pickle.dump((dv, lr), f_out)\n",
    "        print(\"Model successfully pickled.\")\n",
    "    except Exception as e:\n",
    "        print(\"Error occurred while pickling the model:\", str(e))"
   ]
  },
  {
   "cell_type": "code",
   "execution_count": 17,
   "id": "d3075661bfd28ab7",
   "metadata": {
    "ExecuteTime": {
     "end_time": "2025-03-16T12:50:39.902984Z",
     "start_time": "2025-03-16T12:50:34.853117Z"
    },
    "collapsed": false
   },
   "outputs": [
    {
     "name": "stdout",
     "output_type": "stream",
     "text": [
      "Collecting xgboost\r\n",
      "  Downloading xgboost-2.1.4-py3-none-macosx_12_0_arm64.whl.metadata (2.1 kB)\r\n",
      "Requirement already satisfied: numpy in ./.venv/lib/python3.9/site-packages (from xgboost) (2.0.2)\r\n",
      "Requirement already satisfied: scipy in ./.venv/lib/python3.9/site-packages (from xgboost) (1.13.1)\r\n",
      "Downloading xgboost-2.1.4-py3-none-macosx_12_0_arm64.whl (1.9 MB)\r\n",
      "\u001b[2K   \u001b[90m━━━━━━━━━━━━━━━━━━━━━━━━━━━━━━━━━━━━━━━━\u001b[0m \u001b[32m1.9/1.9 MB\u001b[0m \u001b[31m16.1 MB/s\u001b[0m eta \u001b[36m0:00:00\u001b[0m00:01\u001b[0m00:01\u001b[0m\r\n",
      "\u001b[?25hInstalling collected packages: xgboost\r\n",
      "Successfully installed xgboost-2.1.4\r\n",
      "\r\n",
      "\u001b[1m[\u001b[0m\u001b[34;49mnotice\u001b[0m\u001b[1;39;49m]\u001b[0m\u001b[39;49m A new release of pip is available: \u001b[0m\u001b[31;49m23.3.1\u001b[0m\u001b[39;49m -> \u001b[0m\u001b[32;49m25.0.1\u001b[0m\r\n",
      "\u001b[1m[\u001b[0m\u001b[34;49mnotice\u001b[0m\u001b[1;39;49m]\u001b[0m\u001b[39;49m To update, run: \u001b[0m\u001b[32;49mpip install --upgrade pip\u001b[0m\r\n",
      "Collecting hyperopt\r\n",
      "  Downloading hyperopt-0.2.7-py2.py3-none-any.whl.metadata (1.7 kB)\r\n",
      "Requirement already satisfied: numpy in ./.venv/lib/python3.9/site-packages (from hyperopt) (2.0.2)\r\n",
      "Requirement already satisfied: scipy in ./.venv/lib/python3.9/site-packages (from hyperopt) (1.13.1)\r\n",
      "Requirement already satisfied: six in ./.venv/lib/python3.9/site-packages (from hyperopt) (1.17.0)\r\n",
      "Collecting networkx>=2.2 (from hyperopt)\r\n",
      "  Using cached networkx-3.2.1-py3-none-any.whl.metadata (5.2 kB)\r\n",
      "Collecting future (from hyperopt)\r\n",
      "  Downloading future-1.0.0-py3-none-any.whl.metadata (4.0 kB)\r\n",
      "Collecting tqdm (from hyperopt)\r\n",
      "  Using cached tqdm-4.67.1-py3-none-any.whl.metadata (57 kB)\r\n",
      "Requirement already satisfied: cloudpickle in ./.venv/lib/python3.9/site-packages (from hyperopt) (3.1.1)\r\n",
      "Collecting py4j (from hyperopt)\r\n",
      "  Downloading py4j-0.10.9.9-py2.py3-none-any.whl.metadata (1.3 kB)\r\n",
      "Downloading hyperopt-0.2.7-py2.py3-none-any.whl (1.6 MB)\r\n",
      "\u001b[2K   \u001b[90m━━━━━━━━━━━━━━━━━━━━━━━━━━━━━━━━━━━━━━━━\u001b[0m \u001b[32m1.6/1.6 MB\u001b[0m \u001b[31m15.7 MB/s\u001b[0m eta \u001b[36m0:00:00\u001b[0ma \u001b[36m0:00:01\u001b[0m\r\n",
      "\u001b[?25hUsing cached networkx-3.2.1-py3-none-any.whl (1.6 MB)\r\n",
      "Downloading future-1.0.0-py3-none-any.whl (491 kB)\r\n",
      "\u001b[2K   \u001b[90m━━━━━━━━━━━━━━━━━━━━━━━━━━━━━━━━━━━━━━━━\u001b[0m \u001b[32m491.3/491.3 kB\u001b[0m \u001b[31m19.1 MB/s\u001b[0m eta \u001b[36m0:00:00\u001b[0m\r\n",
      "\u001b[?25hDownloading py4j-0.10.9.9-py2.py3-none-any.whl (203 kB)\r\n",
      "\u001b[2K   \u001b[90m━━━━━━━━━━━━━━━━━━━━━━━━━━━━━━━━━━━━━━━━\u001b[0m \u001b[32m203.0/203.0 kB\u001b[0m \u001b[31m12.5 MB/s\u001b[0m eta \u001b[36m0:00:00\u001b[0m\r\n",
      "\u001b[?25hUsing cached tqdm-4.67.1-py3-none-any.whl (78 kB)\r\n",
      "Installing collected packages: py4j, tqdm, networkx, future, hyperopt\r\n",
      "Successfully installed future-1.0.0 hyperopt-0.2.7 networkx-3.2.1 py4j-0.10.9.9 tqdm-4.67.1\r\n",
      "\r\n",
      "\u001b[1m[\u001b[0m\u001b[34;49mnotice\u001b[0m\u001b[1;39;49m]\u001b[0m\u001b[39;49m A new release of pip is available: \u001b[0m\u001b[31;49m23.3.1\u001b[0m\u001b[39;49m -> \u001b[0m\u001b[32;49m25.0.1\u001b[0m\r\n",
      "\u001b[1m[\u001b[0m\u001b[34;49mnotice\u001b[0m\u001b[1;39;49m]\u001b[0m\u001b[39;49m To update, run: \u001b[0m\u001b[32;49mpip install --upgrade pip\u001b[0m\r\n"
     ]
    }
   ],
   "source": [
    "!pip install xgboost\n",
    "!pip install hyperopt"
   ]
  },
  {
   "cell_type": "code",
   "execution_count": 18,
   "id": "1f3a2e0f357bdd85",
   "metadata": {
    "ExecuteTime": {
     "end_time": "2025-03-16T12:50:43.574578Z",
     "start_time": "2025-03-16T12:50:42.913133Z"
    },
    "collapsed": false
   },
   "outputs": [],
   "source": [
    "# import required modules\n",
    "import xgboost as xgb\n",
    "\n",
    "from hyperopt import fmin, tpe, hp, STATUS_OK, Trials # some methods to optimize hyperparameters\n",
    "from hyperopt.pyll import scope"
   ]
  },
  {
   "cell_type": "code",
   "execution_count": 19,
   "id": "d214383a81e8907",
   "metadata": {
    "ExecuteTime": {
     "end_time": "2025-03-16T12:51:08.315101Z",
     "start_time": "2025-03-16T12:51:08.151447Z"
    },
    "collapsed": false
   },
   "outputs": [],
   "source": [
    "train = xgb.DMatrix(X_train, label=y_train)\n",
    "valid = xgb.DMatrix(X_val, label=y_val)"
   ]
  },
  {
   "cell_type": "code",
   "execution_count": 22,
   "id": "5cf77fe02351233c",
   "metadata": {
    "ExecuteTime": {
     "end_time": "2025-03-16T12:52:10.714184Z",
     "start_time": "2025-03-16T12:52:10.711042Z"
    },
    "collapsed": false
   },
   "outputs": [],
   "source": [
    "# Objective function - set the parameters for this specific run\n",
    "def objective(params): \n",
    "    \n",
    "    with mlflow.start_run():\n",
    "        mlflow.set_tag(\"model\", \"xgboost\")\n",
    "        mlflow.log_params(params) \n",
    "        booster = xgb.train(\n",
    "            params=params,\n",
    "            dtrain=train, # model trained on training set\n",
    "            num_boost_round=3, # restricted due to time constraints - a value of 1000 iterations is common\n",
    "            evals=[(valid, 'validation')], # model evaluated on validation set\n",
    "            early_stopping_rounds=3 # if no improvements after 3 iterations, stop running # restricted, time constraints\n",
    "        )\n",
    "        y_pred = booster.predict(valid)\n",
    "        rmse = mean_squared_error(y_val, y_pred)\n",
    "        mlflow.log_metric(\"rmse\", rmse)\n",
    "\n",
    "    return {'loss': rmse, 'status': STATUS_OK}"
   ]
  },
  {
   "cell_type": "code",
   "execution_count": 23,
   "id": "306706eda0196304",
   "metadata": {
    "ExecuteTime": {
     "end_time": "2025-03-16T12:52:50.327863Z",
     "start_time": "2025-03-16T12:52:13.126121Z"
    },
    "collapsed": false
   },
   "outputs": [
    {
     "name": "stdout",
     "output_type": "stream",
     "text": [
      "  0%|          | 0/3 [00:00<?, ?trial/s, best loss=?]"
     ]
    },
    {
     "name": "stderr",
     "output_type": "stream",
     "text": [
      "/Users/ayehninnkhine/PycharmProjects/mlflow-cpe393/.venv/lib/python3.9/site-packages/xgboost/core.py:158: UserWarning: [19:52:13] WARNING: /Users/runner/work/xgboost/xgboost/src/objective/regression_obj.cu:227: reg:linear is now deprecated in favor of reg:squarederror.\n",
      "  warnings.warn(smsg, UserWarning)\n",
      "\n"
     ]
    },
    {
     "name": "stdout",
     "output_type": "stream",
     "text": [
      "[0]\tvalidation-rmse:9.02699                          \n",
      "[1]\tvalidation-rmse:8.43783                          \n",
      "[2]\tvalidation-rmse:7.92976                          \n",
      " 33%|███▎      | 1/3 [00:12<00:24, 12.16s/trial, best loss: 62.88115283167555]"
     ]
    },
    {
     "name": "stderr",
     "output_type": "stream",
     "text": [
      "/Users/ayehninnkhine/PycharmProjects/mlflow-cpe393/.venv/lib/python3.9/site-packages/xgboost/core.py:158: UserWarning: [19:52:25] WARNING: /Users/runner/work/xgboost/xgboost/src/objective/regression_obj.cu:227: reg:linear is now deprecated in favor of reg:squarederror.\n",
      "  warnings.warn(smsg, UserWarning)\n",
      "\n"
     ]
    },
    {
     "name": "stdout",
     "output_type": "stream",
     "text": [
      "[0]\tvalidation-rmse:7.64848                                                   \n",
      "[1]\tvalidation-rmse:6.47024                                                   \n",
      "[2]\tvalidation-rmse:5.82476                                                   \n",
      " 67%|██████▋   | 2/3 [00:25<00:12, 12.65s/trial, best loss: 33.927832593170606]"
     ]
    },
    {
     "name": "stderr",
     "output_type": "stream",
     "text": [
      "/Users/ayehninnkhine/PycharmProjects/mlflow-cpe393/.venv/lib/python3.9/site-packages/xgboost/core.py:158: UserWarning: [19:52:38] WARNING: /Users/runner/work/xgboost/xgboost/src/objective/regression_obj.cu:227: reg:linear is now deprecated in favor of reg:squarederror.\n",
      "  warnings.warn(smsg, UserWarning)\n",
      "\n"
     ]
    },
    {
     "name": "stdout",
     "output_type": "stream",
     "text": [
      "[0]\tvalidation-rmse:8.94649                                                    \n",
      "[1]\tvalidation-rmse:8.30012                                                    \n",
      "[2]\tvalidation-rmse:7.75431                                                    \n",
      "100%|██████████| 3/3 [00:37<00:00, 12.40s/trial, best loss: 33.927832593170606]\n"
     ]
    }
   ],
   "source": [
    "# Set the range of the hyperparameter optimization search\n",
    "search_space = {\n",
    "    'max_depth': scope.int(hp.quniform('max_depth', 4, 100, 1)), # tree depth 4 to 100. Returns float, so convert to integer\n",
    "    'learning_rate': hp.loguniform('learning_rate', -3, 0), # range exp(-3), exp(0) which is (0.049787, 1.0)\n",
    "    'reg_alpha': hp.loguniform('reg_alpha', -5, -1), # range exp(-5), exp(-1) which is (0.006738, 0.367879)\n",
    "    'reg_lambda': hp.loguniform('reg_lambda', -6, -1), # range exp(-6), exp(-1) which is (0.002479, 0.367879)\n",
    "    'min_child_weight': hp.loguniform('min_child_weight', -1, 3), # range exp(-1), exp(3) which is (0.367879, 20.085537)\n",
    "    'objective': 'reg:linear',\n",
    "    'seed': 42\n",
    "}\n",
    "\n",
    "\n",
    "best_result = fmin( # imported above\n",
    "    fn=objective,\n",
    "    space=search_space, # as defined above\n",
    "    algo=tpe.suggest, # tpe is the algorithm used for optimization\n",
    "    max_evals=3, #restricted, time constraints\n",
    "    trials=Trials()\n",
    ")"
   ]
  },
  {
   "cell_type": "code",
   "execution_count": 24,
   "id": "4d0c1f3fdc43bb7",
   "metadata": {
    "ExecuteTime": {
     "end_time": "2025-03-16T15:07:25.444890Z",
     "start_time": "2025-03-16T15:07:25.426878Z"
    },
    "collapsed": false
   },
   "outputs": [],
   "source": [
    "mlflow.xgboost.autolog(disable=True) # MLflow will not store parameters automatically - these will have to be requested"
   ]
  },
  {
   "cell_type": "code",
   "execution_count": 25,
   "id": "38e65e49cbb4b1de",
   "metadata": {
    "ExecuteTime": {
     "end_time": "2025-03-16T15:09:13.912760Z",
     "start_time": "2025-03-16T15:09:13.909993Z"
    },
    "collapsed": false
   },
   "outputs": [],
   "source": [
    "#best params\n",
    "\n",
    "params = {\n",
    "    'learning_rate': 0.33500504398153885,\n",
    "    'max_depth': 74,\n",
    "    'min_child_weight': 3.4593376740383635,\n",
    "    'objective': 'reg:linear',\n",
    "    'reg_alpha': 0.02439429006088758,\n",
    "    'reg_lambda': 0.0029162481576915956,\n",
    "    'seed': 42   \n",
    "}"
   ]
  },
  {
   "cell_type": "code",
   "execution_count": 28,
   "id": "31176e7788771624",
   "metadata": {
    "ExecuteTime": {
     "end_time": "2025-03-16T15:11:38.731228Z",
     "start_time": "2025-03-16T15:11:20.019015Z"
    },
    "collapsed": false
   },
   "outputs": [
    {
     "name": "stderr",
     "output_type": "stream",
     "text": [
      "/Users/ayehninnkhine/PycharmProjects/mlflow-cpe393/.venv/lib/python3.9/site-packages/xgboost/core.py:158: UserWarning: [22:11:20] WARNING: /Users/runner/work/xgboost/xgboost/src/objective/regression_obj.cu:227: reg:linear is now deprecated in favor of reg:squarederror.\n",
      "  warnings.warn(smsg, UserWarning)\n"
     ]
    },
    {
     "name": "stdout",
     "output_type": "stream",
     "text": [
      "[0]\tvalidation-rmse:7.64848\n",
      "[1]\tvalidation-rmse:6.47024\n",
      "[2]\tvalidation-rmse:5.82476\n"
     ]
    },
    {
     "name": "stderr",
     "output_type": "stream",
     "text": [
      "/Users/ayehninnkhine/PycharmProjects/mlflow-cpe393/.venv/lib/python3.9/site-packages/xgboost/core.py:158: UserWarning: [22:11:35] WARNING: /Users/runner/work/xgboost/xgboost/src/c_api/c_api.cc:1374: Saving model in the UBJSON format as default.  You can use file extension: `json`, `ubj` or `deprecated` to choose between formats.\n",
      "  warnings.warn(smsg, UserWarning)\n",
      "\u001b[31m2025/03/16 22:11:38 WARNING mlflow.models.model: Model logged without a signature and input example. Please set `input_example` parameter when logging the model to auto infer the model signature.\u001b[0m\n"
     ]
    }
   ],
   "source": [
    "with mlflow.start_run():\n",
    "    \n",
    "    train = xgb.DMatrix(X_train, label=y_train)\n",
    "    valid = xgb.DMatrix(X_val, label=y_val)\n",
    "\n",
    "    best_params = {\n",
    "        'learning_rate': 0.4434065752589766,\n",
    "        'max_depth': 81,\n",
    "        'min_child_weight': 10.423237853746643,\n",
    "        'objective': 'reg:linear',\n",
    "        'reg_alpha': 0.2630756846813668,\n",
    "        'reg_lambda': 0.1220536223877784,\n",
    "        'seed': 42    \n",
    "    }\n",
    "\n",
    "    mlflow.log_params(best_params)\n",
    "\n",
    "    booster = xgb.train(\n",
    "        params=params,\n",
    "        dtrain=train, # model trained on training set\n",
    "        num_boost_round=3, # restricted due to time constraints - a value of 1000 iterations is common\n",
    "        evals=[(valid, 'validation')], # model evaluated on validation set\n",
    "        early_stopping_rounds=3 # if no improvements after 3 iterations, stop running # restricted, time constraints\n",
    "        )\n",
    "\n",
    "    y_pred = booster.predict(valid)\n",
    "    rmse = mean_squared_error(y_val, y_pred)\n",
    "    mlflow.log_metric(\"rmse\", rmse)\n",
    "\n",
    "    with open(\"preprocessor.b\", \"wb\") as f_out: # save pre-processing as a model\n",
    "        pickle.dump(dv, f_out)\n",
    "        \n",
    "    mlflow.log_artifact(\"preprocessor.b\", artifact_path=\"preprocessor\") # we can isolate the pre-processing from raw data\n",
    "    mlflow.xgboost.log_model(booster, artifact_path=\"models_mlflow\") "
   ]
  },
  {
   "cell_type": "code",
   "execution_count": 29,
   "id": "b983d4b2538c548",
   "metadata": {
    "ExecuteTime": {
     "end_time": "2025-03-16T15:14:00.850105Z",
     "start_time": "2025-03-16T15:14:00.775616Z"
    },
    "collapsed": false
   },
   "outputs": [],
   "source": [
    "logged_model = 'mlruns/1/b0cbc283e72241b99cf27d0352dc1088/artifacts/models_mlflow'\n",
    "\n",
    "# Load model as a PyFuncModel.\n",
    "loaded_model = mlflow.pyfunc.load_model(logged_model)"
   ]
  },
  {
   "cell_type": "code",
   "execution_count": 30,
   "id": "4de1026eb964d99a",
   "metadata": {
    "ExecuteTime": {
     "end_time": "2025-03-16T15:14:13.755396Z",
     "start_time": "2025-03-16T15:14:13.746153Z"
    },
    "collapsed": false
   },
   "outputs": [
    {
     "data": {
      "text/plain": [
       "mlflow.pyfunc.loaded_model:\n",
       "  artifact_path: models_mlflow\n",
       "  flavor: mlflow.xgboost\n",
       "  run_id: b0cbc283e72241b99cf27d0352dc1088"
      ]
     },
     "execution_count": 30,
     "metadata": {},
     "output_type": "execute_result"
    }
   ],
   "source": [
    "loaded_model"
   ]
  },
  {
   "cell_type": "code",
   "execution_count": 31,
   "id": "4988552239a2684e",
   "metadata": {
    "ExecuteTime": {
     "end_time": "2025-03-16T15:14:24.949944Z",
     "start_time": "2025-03-16T15:14:24.931426Z"
    },
    "collapsed": false
   },
   "outputs": [],
   "source": [
    "xgboost_model = mlflow.xgboost.load_model(logged_model)"
   ]
  },
  {
   "cell_type": "code",
   "execution_count": 32,
   "id": "a8f1c6e1028afb68",
   "metadata": {
    "ExecuteTime": {
     "end_time": "2025-03-16T15:14:36.557689Z",
     "start_time": "2025-03-16T15:14:36.549781Z"
    },
    "collapsed": false
   },
   "outputs": [
    {
     "data": {
      "text/plain": [
       "<xgboost.core.Booster at 0x3f9623220>"
      ]
     },
     "execution_count": 32,
     "metadata": {},
     "output_type": "execute_result"
    }
   ],
   "source": [
    "xgboost_model"
   ]
  },
  {
   "cell_type": "code",
   "execution_count": 33,
   "id": "64017f6d737f8437",
   "metadata": {
    "ExecuteTime": {
     "end_time": "2025-03-16T15:14:46.909599Z",
     "start_time": "2025-03-16T15:14:45.550416Z"
    },
    "collapsed": false
   },
   "outputs": [],
   "source": [
    "y_pred = xgboost_model.predict(valid)"
   ]
  },
  {
   "cell_type": "code",
   "execution_count": 34,
   "id": "a3494f6266d092cd",
   "metadata": {
    "ExecuteTime": {
     "end_time": "2025-03-16T15:14:54.831297Z",
     "start_time": "2025-03-16T15:14:54.820281Z"
    },
    "collapsed": false
   },
   "outputs": [
    {
     "data": {
      "text/plain": [
       "array([14.190828, 18.68855 , 26.193169, 23.354773, 26.193169, 13.043591,\n",
       "       21.33266 ,  6.970524, 15.222571, 15.575311], dtype=float32)"
      ]
     },
     "execution_count": 34,
     "metadata": {},
     "output_type": "execute_result"
    }
   ],
   "source": [
    "# check the first 10\n",
    "y_pred[:10]"
   ]
  },
  {
   "cell_type": "markdown",
   "id": "54f67bd4d5eb5fb7",
   "metadata": {
    "collapsed": false
   },
   "source": [
    "Model Registry"
   ]
  },
  {
   "cell_type": "code",
   "execution_count": null,
   "id": "4d6155b9e858deae",
   "metadata": {
    "collapsed": false
   },
   "outputs": [],
   "source": []
  }
 ],
 "metadata": {
  "kernelspec": {
   "display_name": "machineLearning",
   "language": "python",
   "name": "python3"
  },
  "language_info": {
   "codemirror_mode": {
    "name": "ipython",
    "version": 2
   },
   "file_extension": ".py",
   "mimetype": "text/x-python",
   "name": "python",
   "nbconvert_exporter": "python",
   "pygments_lexer": "ipython2",
   "version": "3.10.13"
  }
 },
 "nbformat": 4,
 "nbformat_minor": 5
}
