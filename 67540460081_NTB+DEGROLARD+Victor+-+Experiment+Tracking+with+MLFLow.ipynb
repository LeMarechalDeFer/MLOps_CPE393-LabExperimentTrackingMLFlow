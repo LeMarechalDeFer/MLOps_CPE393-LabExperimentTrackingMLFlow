{
 "cells": [
  {
   "cell_type": "code",
   "execution_count": 53,
   "id": "f126e33d",
   "metadata": {},
   "outputs": [
    {
     "name": "stderr",
     "output_type": "stream",
     "text": [
      "2025/03/28 02:28:46 INFO mlflow.tracking.fluent: Experiment with name 'cpe-taxi' does not exist. Creating a new experiment.\n"
     ]
    }
   ],
   "source": [
    "\n",
    "import pandas as pd\n",
    "from sklearn.feature_extraction import DictVectorizer\n",
    "from sklearn.linear_model import LinearRegression\n",
    "from sklearn.metrics import mean_squared_error\n",
    "from mlflow.tracking import MlflowClient\n",
    "import mlflow\n",
    "import mlflow.sklearn\n",
    "import pickle\n",
    "import math\n",
    "import os\n",
    "mlflow.set_tracking_uri(\"http://127.0.0.1:5000\")\n",
    "mlflow.set_experiment(\"cpe-taxi\")\n",
    "pname = \"cpetaxi-dur\" \n",
    "\n",
    "client = MlflowClient()"
   ]
  },
  {
   "cell_type": "code",
   "execution_count": 54,
   "id": "d71164a8",
   "metadata": {},
   "outputs": [
    {
     "name": "stdout",
     "output_type": "stream",
     "text": [
      "./artifacts/preprocessor_prod.b\n"
     ]
    },
    {
     "name": "stderr",
     "output_type": "stream",
     "text": [
      "2025/03/28 02:28:58 WARNING mlflow.models.model: Model logged without a signature and input example. Please set `input_example` parameter when logging the model to auto infer the model signature.\n",
      "Successfully registered model 'cpetaxi-dur'.\n",
      "2025/03/28 02:28:58 INFO mlflow.store.model_registry.abstract_store: Waiting up to 300 seconds for model version to finish creation. Model name: cpetaxi-dur, version 1\n"
     ]
    },
    {
     "name": "stdout",
     "output_type": "stream",
     "text": [
      "🏃 View run powerful-calf-675 at: http://127.0.0.1:5000/#/experiments/3/runs/fee33483d59c4163a4b1d49052af21a2\n",
      "🧪 View experiment at: http://127.0.0.1:5000/#/experiments/3\n"
     ]
    },
    {
     "name": "stderr",
     "output_type": "stream",
     "text": [
      "Created version '1' of model 'cpetaxi-dur'.\n"
     ]
    }
   ],
   "source": [
    "\n",
    "#Générate prod \n",
    "df = pd.read_csv(\"green_tripdata_2021-07.csv\", low_memory=False)\n",
    "\n",
    "df = df[(df[\"trip_distance\"] > 0) & (df[\"fare_amount\"] > 0)]\n",
    "df[\"PULocationID\"] = df[\"PULocationID\"].astype(str)\n",
    "df[\"DOLocationID\"] = df[\"DOLocationID\"].astype(str)\n",
    "\n",
    "categorical = [\"PULocationID\", \"DOLocationID\"]\n",
    "numerical = [\"trip_distance\"]\n",
    "target = \"fare_amount\"\n",
    "\n",
    "dv = DictVectorizer()\n",
    "train_dicts_prod = df[categorical + numerical].to_dict(orient=\"records\")\n",
    "X_train_prod = dv.fit_transform(train_dicts_prod)\n",
    "y_train_prod = df[target].values\n",
    "\n",
    "#First model test\n",
    "model = LinearRegression()\n",
    "model.fit(X_train_prod, y_train_prod)\n",
    "\n",
    "y_pred_prod = model.predict(X_train_prod)\n",
    "rmse = math.sqrt(mean_squared_error(y_train_prod, y_pred_prod))\n",
    "\n",
    "with mlflow.start_run():\n",
    "    mlflow.log_metric(\"rmse\", rmse)\n",
    "    \n",
    "    os.makedirs(\"./artifacts\", exist_ok=True)\n",
    "    with open(\"./artifacts/preprocessor_prod.b\", \"wb\") as f_out:\n",
    "        print(f_out.name)\n",
    "        pickle.dump(dv, f_out)\n",
    "    \n",
    "    mlflow.log_artifact(\"./artifacts/preprocessor_prod.b\", artifact_path=\"preprocessor_prod\")\n",
    "\n",
    "    mlflow.sklearn.log_model(\n",
    "        sk_model=model,\n",
    "        artifact_path=\"model\",\n",
    "        registered_model_name=pname\n",
    "    )"
   ]
  },
  {
   "cell_type": "code",
   "execution_count": 55,
   "id": "270702ed",
   "metadata": {},
   "outputs": [
    {
     "name": "stderr",
     "output_type": "stream",
     "text": [
      "C:\\Users\\Victor\\AppData\\Local\\Temp\\ipykernel_22644\\3310470136.py:2: FutureWarning: ``mlflow.tracking.client.MlflowClient.transition_model_version_stage`` is deprecated since 2.9.0. Model registry stages will be removed in a future major release. To learn more about the deprecation of model registry stages, see our migration guide here: https://mlflow.org/docs/latest/model-registry.html#migrating-from-stages\n",
      "  client.transition_model_version_stage(\n"
     ]
    },
    {
     "data": {
      "text/plain": [
       "<ModelVersion: aliases=[], creation_timestamp=1743103738287, current_stage='Production', description='', last_updated_timestamp=1743103741209, name='cpetaxi-dur', run_id='fee33483d59c4163a4b1d49052af21a2', run_link='', source='mlflow-artifacts:/3/fee33483d59c4163a4b1d49052af21a2/artifacts/model', status='READY', status_message=None, tags={}, user_id='', version='1'>"
      ]
     },
     "execution_count": 55,
     "metadata": {},
     "output_type": "execute_result"
    }
   ],
   "source": [
    "#To prod\n",
    "client.transition_model_version_stage(\n",
    "    name=pname,\n",
    "    version=1,\n",
    "    stage=\"Production\"\n",
    ")"
   ]
  },
  {
   "cell_type": "code",
   "execution_count": 56,
   "id": "054a6829",
   "metadata": {},
   "outputs": [
    {
     "name": "stderr",
     "output_type": "stream",
     "text": [
      "2025/03/28 02:30:01 WARNING mlflow.models.model: Model logged without a signature and input example. Please set `input_example` parameter when logging the model to auto infer the model signature.\n",
      "Registered model 'cpetaxi-dur' already exists. Creating a new version of this model...\n",
      "2025/03/28 02:30:01 INFO mlflow.store.model_registry.abstract_store: Waiting up to 300 seconds for model version to finish creation. Model name: cpetaxi-dur, version 2\n",
      "Created version '2' of model 'cpetaxi-dur'.\n"
     ]
    },
    {
     "name": "stdout",
     "output_type": "stream",
     "text": [
      "🏃 View run gregarious-kite-120 at: http://127.0.0.1:5000/#/experiments/3/runs/c6a44e9a0e98443fbe2e90b78d821bb0\n",
      "🧪 View experiment at: http://127.0.0.1:5000/#/experiments/3\n"
     ]
    }
   ],
   "source": [
    "from sklearn.ensemble import RandomForestRegressor\n",
    "\n",
    "df[\"passenger_count\"] = df[\"passenger_count\"].fillna(1).astype(int).astype(str)  \n",
    "\n",
    "categorical = [\"PULocationID\", \"DOLocationID\", \"passenger_count\"]\n",
    "numerical = [\"trip_distance\"]\n",
    "\n",
    "dv = DictVectorizer()\n",
    "train_dicts_stage = df[categorical + numerical].to_dict(orient=\"records\")\n",
    "X_train_stage = dv.fit_transform(train_dicts_stage)\n",
    "y_train_stage = df[\"fare_amount\"].values\n",
    "\n",
    "model = RandomForestRegressor(n_estimators=100, max_depth=10, random_state=42)\n",
    "model.fit(X_train_stage, y_train_stage)\n",
    "\n",
    "with mlflow.start_run():\n",
    "    mlflow.log_metric(\"rmse\", math.sqrt(mean_squared_error(y_train_stage, model.predict(X_train_stage))))\n",
    "\n",
    "    with open(\"./artifacts/preprocessor_stage.b\", \"wb\") as f_out:\n",
    "        pickle.dump(dv, f_out)\n",
    "    mlflow.log_artifact(\"./artifacts/preprocessor_stage.b\", artifact_path=\"preprocessor_stage\")\n",
    "\n",
    "    mlflow.sklearn.log_model(\n",
    "        sk_model=model,\n",
    "        artifact_path=\"model\",\n",
    "        registered_model_name=pname\n",
    "    )\n"
   ]
  },
  {
   "cell_type": "code",
   "execution_count": 57,
   "id": "bfe3d441",
   "metadata": {},
   "outputs": [
    {
     "name": "stderr",
     "output_type": "stream",
     "text": [
      "C:\\Users\\Victor\\AppData\\Local\\Temp\\ipykernel_22644\\153303279.py:2: FutureWarning: ``mlflow.tracking.client.MlflowClient.transition_model_version_stage`` is deprecated since 2.9.0. Model registry stages will be removed in a future major release. To learn more about the deprecation of model registry stages, see our migration guide here: https://mlflow.org/docs/latest/model-registry.html#migrating-from-stages\n",
      "  client.transition_model_version_stage(\n"
     ]
    },
    {
     "data": {
      "text/plain": [
       "<ModelVersion: aliases=[], creation_timestamp=1743103801883, current_stage='Staging', description='', last_updated_timestamp=1743103805945, name='cpetaxi-dur', run_id='c6a44e9a0e98443fbe2e90b78d821bb0', run_link='', source='mlflow-artifacts:/3/c6a44e9a0e98443fbe2e90b78d821bb0/artifacts/model', status='READY', status_message=None, tags={}, user_id='', version='2'>"
      ]
     },
     "execution_count": 57,
     "metadata": {},
     "output_type": "execute_result"
    }
   ],
   "source": [
    "#To Staging\n",
    "client.transition_model_version_stage(\n",
    "    name=pname,\n",
    "    version=2,\n",
    "    stage=\"Staging\"\n",
    ")"
   ]
  },
  {
   "cell_type": "code",
   "execution_count": 58,
   "id": "09693146",
   "metadata": {},
   "outputs": [
    {
     "name": "stderr",
     "output_type": "stream",
     "text": [
      "Downloading artifacts: 100%|██████████| 5/5 [00:00<00:00, 95.40it/s]\n"
     ]
    }
   ],
   "source": [
    "#Load prod \n",
    "model_uri = f\"models:/{pname}/Production\"\n",
    "_ = mlflow.pyfunc.load_model(model_uri)\n",
    "\n",
    "with open(\"./artifacts/preprocessor_prod.b\", \"rb\") as f:\n",
    "    dv = pickle.load(f)\n",
    "\n",
    "X_test_prod = dv.transform(train_dicts_prod)\n",
    "target_prod = df.loc[df.index, \"fare_amount\"]\n",
    "\n"
   ]
  },
  {
   "cell_type": "code",
   "execution_count": 49,
   "id": "9925d14e",
   "metadata": {},
   "outputs": [
    {
     "name": "stderr",
     "output_type": "stream",
     "text": [
      "Downloading artifacts: 100%|██████████| 5/5 [00:00<00:00, 15.36it/s]\n"
     ]
    }
   ],
   "source": [
    "#Load stage\n",
    "model_uri = f\"models:/{pname}/Staging\"\n",
    "_ = mlflow.pyfunc.load_model(model_uri)\n",
    "\n",
    "with open(\"./artifacts/preprocessor_stage.b\", \"rb\") as f:\n",
    "    dv = pickle.load(f)\n",
    "\n",
    "X_test_stage = dv.transform(train_dicts_stage)\n",
    "target_stage = df.loc[df.index, \"fare_amount\"]\n"
   ]
  },
  {
   "cell_type": "code",
   "execution_count": 59,
   "id": "8c755197",
   "metadata": {},
   "outputs": [
    {
     "name": "stderr",
     "output_type": "stream",
     "text": [
      "Downloading artifacts: 100%|██████████| 5/5 [00:00<00:00, 95.21it/s] \n",
      "Downloading artifacts: 100%|██████████| 5/5 [00:00<00:00, 15.81it/s]\n"
     ]
    },
    {
     "name": "stdout",
     "output_type": "stream",
     "text": [
      "RMSE Pro: 11.682\n",
      "RMSE Stage: 5.955\n"
     ]
    }
   ],
   "source": [
    "\n",
    "prod_model = mlflow.pyfunc.load_model(f\"models:/{pname}/Production\")\n",
    "staging_model = mlflow.pyfunc.load_model(f\"models:/{pname}/Staging\")\n",
    "\n",
    "y_pred_prod = prod_model.predict(X_test_prod)\n",
    "y_pred_staging = staging_model.predict(X_test_stage)\n",
    "\n",
    "rmse_prod = math.sqrt(mean_squared_error(target_prod, y_pred_prod))\n",
    "rmse_staging = math.sqrt(mean_squared_error(target_stage, y_pred_staging))\n",
    "\n",
    "print(f\"RMSE Pro: {rmse_prod:.3f}\")\n",
    "print(f\"RMSE Stage: {rmse_staging:.3f}\")\n"
   ]
  },
  {
   "cell_type": "code",
   "execution_count": 61,
   "id": "b077f31e",
   "metadata": {},
   "outputs": [
    {
     "name": "stdout",
     "output_type": "stream",
     "text": [
      "Promote to Production...\n"
     ]
    },
    {
     "name": "stderr",
     "output_type": "stream",
     "text": [
      "C:\\Users\\Victor\\AppData\\Local\\Temp\\ipykernel_22644\\2797230963.py:3: FutureWarning: ``mlflow.tracking.client.MlflowClient.get_latest_versions`` is deprecated since 2.9.0. Model registry stages will be removed in a future major release. To learn more about the deprecation of model registry stages, see our migration guide here: https://mlflow.org/docs/latest/model-registry.html#migrating-from-stages\n",
      "  staging_version = client.get_latest_versions(pname, stages=[\"Staging\"])[0].version\n"
     ]
    }
   ],
   "source": [
    "\n",
    "if rmse_staging < rmse_prod:\n",
    "    print(\"Promote to Production...\")\n",
    "    staging_version = client.get_latest_versions(pname, stages=[\"Staging\"])[0].version\n",
    "    client.transition_model_version_stage(\n",
    "        name=pname,\n",
    "        version=staging_version,\n",
    "        stage=\"Production\",\n",
    "        archive_existing_versions=True\n",
    "    )\n",
    "else:\n",
    "    print(\"Curr model is better.\")\n"
   ]
  }
 ],
 "metadata": {
  "kernelspec": {
   "display_name": "Python 3",
   "language": "python",
   "name": "python3"
  },
  "language_info": {
   "codemirror_mode": {
    "name": "ipython",
    "version": 3
   },
   "file_extension": ".py",
   "mimetype": "text/x-python",
   "name": "python",
   "nbconvert_exporter": "python",
   "pygments_lexer": "ipython3",
   "version": "3.13.2"
  }
 },
 "nbformat": 4,
 "nbformat_minor": 5
}
