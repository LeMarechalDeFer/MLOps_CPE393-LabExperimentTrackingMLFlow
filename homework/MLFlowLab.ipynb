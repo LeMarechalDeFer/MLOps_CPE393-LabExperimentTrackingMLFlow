{
 "cells": [
  {
   "cell_type": "code",
   "execution_count": 1,
   "metadata": {},
   "outputs": [
    {
     "ename": "FileNotFoundError",
     "evalue": "[Errno 2] No such file or directory: 'data/green_tripdata_2021-03.parquet'",
     "output_type": "error",
     "traceback": [
      "\u001b[31m---------------------------------------------------------------------------\u001b[39m",
      "\u001b[31mFileNotFoundError\u001b[39m                         Traceback (most recent call last)",
      "\u001b[36mCell\u001b[39m\u001b[36m \u001b[39m\u001b[32mIn[1]\u001b[39m\u001b[32m, line 4\u001b[39m\n\u001b[32m      1\u001b[39m \u001b[38;5;28;01mimport\u001b[39;00m\u001b[38;5;250m \u001b[39m\u001b[34;01mpandas\u001b[39;00m\u001b[38;5;250m \u001b[39m\u001b[38;5;28;01mas\u001b[39;00m\u001b[38;5;250m \u001b[39m\u001b[34;01mpd\u001b[39;00m\n\u001b[32m      3\u001b[39m \u001b[38;5;66;03m# Charger le jeu de données\u001b[39;00m\n\u001b[32m----> \u001b[39m\u001b[32m4\u001b[39m df_test = pd.read_parquet(\u001b[33m'\u001b[39m\u001b[33mdata/green_tripdata_2021-03.parquet\u001b[39m\u001b[33m'\u001b[39m)\n\u001b[32m      6\u001b[39m \u001b[38;5;28;01mimport\u001b[39;00m\u001b[38;5;250m \u001b[39m\u001b[34;01mmlflow\u001b[39;00m\n\u001b[32m      7\u001b[39m \u001b[38;5;28;01mimport\u001b[39;00m\u001b[38;5;250m \u001b[39m\u001b[34;01mpickle\u001b[39;00m\n",
      "\u001b[36mFile \u001b[39m\u001b[32m~/anaconda3/envs/mlflow-env/lib/python3.12/site-packages/pandas/io/parquet.py:667\u001b[39m, in \u001b[36mread_parquet\u001b[39m\u001b[34m(path, engine, columns, storage_options, use_nullable_dtypes, dtype_backend, filesystem, filters, **kwargs)\u001b[39m\n\u001b[32m    664\u001b[39m     use_nullable_dtypes = \u001b[38;5;28;01mFalse\u001b[39;00m\n\u001b[32m    665\u001b[39m check_dtype_backend(dtype_backend)\n\u001b[32m--> \u001b[39m\u001b[32m667\u001b[39m \u001b[38;5;28;01mreturn\u001b[39;00m impl.read(\n\u001b[32m    668\u001b[39m     path,\n\u001b[32m    669\u001b[39m     columns=columns,\n\u001b[32m    670\u001b[39m     filters=filters,\n\u001b[32m    671\u001b[39m     storage_options=storage_options,\n\u001b[32m    672\u001b[39m     use_nullable_dtypes=use_nullable_dtypes,\n\u001b[32m    673\u001b[39m     dtype_backend=dtype_backend,\n\u001b[32m    674\u001b[39m     filesystem=filesystem,\n\u001b[32m    675\u001b[39m     **kwargs,\n\u001b[32m    676\u001b[39m )\n",
      "\u001b[36mFile \u001b[39m\u001b[32m~/anaconda3/envs/mlflow-env/lib/python3.12/site-packages/pandas/io/parquet.py:267\u001b[39m, in \u001b[36mPyArrowImpl.read\u001b[39m\u001b[34m(self, path, columns, filters, use_nullable_dtypes, dtype_backend, storage_options, filesystem, **kwargs)\u001b[39m\n\u001b[32m    264\u001b[39m \u001b[38;5;28;01mif\u001b[39;00m manager == \u001b[33m\"\u001b[39m\u001b[33marray\u001b[39m\u001b[33m\"\u001b[39m:\n\u001b[32m    265\u001b[39m     to_pandas_kwargs[\u001b[33m\"\u001b[39m\u001b[33msplit_blocks\u001b[39m\u001b[33m\"\u001b[39m] = \u001b[38;5;28;01mTrue\u001b[39;00m  \u001b[38;5;66;03m# type: ignore[assignment]\u001b[39;00m\n\u001b[32m--> \u001b[39m\u001b[32m267\u001b[39m path_or_handle, handles, filesystem = _get_path_or_handle(\n\u001b[32m    268\u001b[39m     path,\n\u001b[32m    269\u001b[39m     filesystem,\n\u001b[32m    270\u001b[39m     storage_options=storage_options,\n\u001b[32m    271\u001b[39m     mode=\u001b[33m\"\u001b[39m\u001b[33mrb\u001b[39m\u001b[33m\"\u001b[39m,\n\u001b[32m    272\u001b[39m )\n\u001b[32m    273\u001b[39m \u001b[38;5;28;01mtry\u001b[39;00m:\n\u001b[32m    274\u001b[39m     pa_table = \u001b[38;5;28mself\u001b[39m.api.parquet.read_table(\n\u001b[32m    275\u001b[39m         path_or_handle,\n\u001b[32m    276\u001b[39m         columns=columns,\n\u001b[32m   (...)\u001b[39m\u001b[32m    279\u001b[39m         **kwargs,\n\u001b[32m    280\u001b[39m     )\n",
      "\u001b[36mFile \u001b[39m\u001b[32m~/anaconda3/envs/mlflow-env/lib/python3.12/site-packages/pandas/io/parquet.py:140\u001b[39m, in \u001b[36m_get_path_or_handle\u001b[39m\u001b[34m(path, fs, storage_options, mode, is_dir)\u001b[39m\n\u001b[32m    130\u001b[39m handles = \u001b[38;5;28;01mNone\u001b[39;00m\n\u001b[32m    131\u001b[39m \u001b[38;5;28;01mif\u001b[39;00m (\n\u001b[32m    132\u001b[39m     \u001b[38;5;129;01mnot\u001b[39;00m fs\n\u001b[32m    133\u001b[39m     \u001b[38;5;129;01mand\u001b[39;00m \u001b[38;5;129;01mnot\u001b[39;00m is_dir\n\u001b[32m   (...)\u001b[39m\u001b[32m    138\u001b[39m     \u001b[38;5;66;03m# fsspec resources can also point to directories\u001b[39;00m\n\u001b[32m    139\u001b[39m     \u001b[38;5;66;03m# this branch is used for example when reading from non-fsspec URLs\u001b[39;00m\n\u001b[32m--> \u001b[39m\u001b[32m140\u001b[39m     handles = get_handle(\n\u001b[32m    141\u001b[39m         path_or_handle, mode, is_text=\u001b[38;5;28;01mFalse\u001b[39;00m, storage_options=storage_options\n\u001b[32m    142\u001b[39m     )\n\u001b[32m    143\u001b[39m     fs = \u001b[38;5;28;01mNone\u001b[39;00m\n\u001b[32m    144\u001b[39m     path_or_handle = handles.handle\n",
      "\u001b[36mFile \u001b[39m\u001b[32m~/anaconda3/envs/mlflow-env/lib/python3.12/site-packages/pandas/io/common.py:882\u001b[39m, in \u001b[36mget_handle\u001b[39m\u001b[34m(path_or_buf, mode, encoding, compression, memory_map, is_text, errors, storage_options)\u001b[39m\n\u001b[32m    873\u001b[39m         handle = \u001b[38;5;28mopen\u001b[39m(\n\u001b[32m    874\u001b[39m             handle,\n\u001b[32m    875\u001b[39m             ioargs.mode,\n\u001b[32m   (...)\u001b[39m\u001b[32m    878\u001b[39m             newline=\u001b[33m\"\u001b[39m\u001b[33m\"\u001b[39m,\n\u001b[32m    879\u001b[39m         )\n\u001b[32m    880\u001b[39m     \u001b[38;5;28;01melse\u001b[39;00m:\n\u001b[32m    881\u001b[39m         \u001b[38;5;66;03m# Binary mode\u001b[39;00m\n\u001b[32m--> \u001b[39m\u001b[32m882\u001b[39m         handle = \u001b[38;5;28mopen\u001b[39m(handle, ioargs.mode)\n\u001b[32m    883\u001b[39m     handles.append(handle)\n\u001b[32m    885\u001b[39m \u001b[38;5;66;03m# Convert BytesIO or file objects passed with an encoding\u001b[39;00m\n",
      "\u001b[31mFileNotFoundError\u001b[39m: [Errno 2] No such file or directory: 'data/green_tripdata_2021-03.parquet'"
     ]
    }
   ],
   "source": [
    "import pandas as pd\n",
    "\n",
    "# Charger le jeu de données\n",
    "df_test = pd.read_parquet('data/green_tripdata_2021-03.parquet')\n",
    "\n",
    "import mlflow\n",
    "import pickle\n",
    "\n",
    "# Spécifiez le nom du modèle enregistré\n",
    "model_name = \"nyc-taxi-regressor\"\n",
    "\n",
    "# Créez un client MLflow\n",
    "client = mlflow.MlflowClient()\n",
    "\n",
    "# Obtenez la dernière version du modèle en production\n",
    "latest_production = client.get_latest_versions(model_name, stages=[\"Production\"])[0]\n",
    "\n",
    "# Téléchargez l'artefact 'dv.pkl'\n",
    "artifact_path = client.download_artifacts(latest_production.run_id, \"dv.pkl\")\n",
    "\n",
    "# Chargez le DictVectorizer\n",
    "with open(artifact_path, 'rb') as f:\n",
    "    dv = pickle.load(f)\n",
    "\n",
    "\n",
    "# Sélectionnez les colonnes pertinentes\n",
    "categorical = ['PULocationID', 'DOLocationID']\n",
    "numerical = ['trip_distance']\n",
    "\n",
    "# Créez des dictionnaires pour le vecteur\n",
    "dicts = df_test[categorical + numerical].to_dict(orient='records')\n",
    "\n",
    "# Transformez les données\n",
    "X_test = dv.transform(dicts)\n",
    "\n",
    "\n",
    "from sklearn.metrics import mean_squared_error\n",
    "import numpy as np\n",
    "\n",
    "# Obtenez les versions des modèles\n",
    "staging_model = client.get_latest_versions(model_name, stages=[\"Staging\"])[0]\n",
    "production_model = latest_production\n",
    "\n",
    "# Chargez les modèles\n",
    "model_staging = mlflow.pyfunc.load_model(f\"models:/{model_name}/{staging_model.version}\")\n",
    "model_production = mlflow.pyfunc.load_model(f\"models:/{model_name}/{production_model.version}\")\n",
    "\n",
    "# Effectuez les prédictions\n",
    "y_pred_staging = model_staging.predict(X_test)\n",
    "y_pred_production = model_production.predict(X_test)\n",
    "\n",
    "# Calculez les RMSE\n",
    "rmse_staging = mean_squared_error(df_test['fare_amount'], y_pred_staging, squared=False)\n",
    "rmse_production = mean_squared_error(df_test['fare_amount'], y_pred_production, squared=False)\n",
    "\n",
    "print(f\"RMSE Staging: {rmse_staging:.2f}\")\n",
    "print(f\"RMSE Production: {rmse_production:.2f}\")\n",
    "\n",
    "# Comparer les performances\n",
    "if rmse_staging < rmse_production:\n",
    "    # Promouvoir le modèle en Staging\n",
    "    client.transition_model_version_stage(\n",
    "        name=model_name,\n",
    "        version=staging_model.version,\n",
    "        stage=\"Production\",\n",
    "        archive_existing_versions=True\n",
    "    )\n",
    "    print(f\"Le modèle version {staging_model.version} a été promu en Production.\")\n",
    "else:\n",
    "    print(\"Le modèle en Production actuel est meilleur. Aucune mise à jour effectuée.\")\n"
   ]
  },
  {
   "cell_type": "code",
   "execution_count": null,
   "metadata": {},
   "outputs": [],
   "source": []
  }
 ],
 "metadata": {
  "kernelspec": {
   "display_name": "mlflow-env",
   "language": "python",
   "name": "python3"
  },
  "language_info": {
   "codemirror_mode": {
    "name": "ipython",
    "version": 3
   },
   "file_extension": ".py",
   "mimetype": "text/x-python",
   "name": "python",
   "nbconvert_exporter": "python",
   "pygments_lexer": "ipython3",
   "version": "3.12.3"
  }
 },
 "nbformat": 4,
 "nbformat_minor": 2
}
