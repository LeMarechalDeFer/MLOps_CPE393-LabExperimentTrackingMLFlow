{
 "cells": [
  {
   "cell_type": "code",
   "execution_count": 1,
   "id": "initial_id",
   "metadata": {
    "ExecuteTime": {
     "end_time": "2025-03-16T15:49:37.372682Z",
     "start_time": "2025-03-16T15:49:36.072369Z"
    },
    "collapsed": true
   },
   "outputs": [],
   "source": [
    "from mlflow.tracking import MlflowClient\n",
    "\n",
    "\n",
    "MLFLOW_TRACKING_URI = \"sqlite:///mlflow.db\""
   ]
  },
  {
   "cell_type": "code",
   "execution_count": 2,
   "id": "f30d9f40bd30bb2b",
   "metadata": {
    "ExecuteTime": {
     "end_time": "2025-03-16T15:49:53.248289Z",
     "start_time": "2025-03-16T15:49:52.886555Z"
    },
    "collapsed": false
   },
   "outputs": [
    {
     "data": {
      "text/plain": [
       "[<Experiment: artifact_location='/home/talleyrand/Documents/MLOps/MLOps_CPE393-LabExperimentTrackingMLFlow/homework/mlruns/1', creation_time=1747569219987, experiment_id='1', last_update_time=1747569219987, lifecycle_stage='active', name='mlops_nyc_taxi', tags={}>,\n",
       " <Experiment: artifact_location='/home/talleyrand/Documents/MLOps/MLOps_CPE393-LabExperimentTrackingMLFlow/homework/mlruns/0', creation_time=1747569219969, experiment_id='0', last_update_time=1747569219969, lifecycle_stage='active', name='Default', tags={}>]"
      ]
     },
     "execution_count": 2,
     "metadata": {},
     "output_type": "execute_result"
    }
   ],
   "source": [
    "client = MlflowClient(tracking_uri=MLFLOW_TRACKING_URI)\n",
    "\n",
    "client.search_experiments()"
   ]
  },
  {
   "cell_type": "code",
   "execution_count": 3,
   "id": "1e41bfef1da117d2",
   "metadata": {
    "ExecuteTime": {
     "end_time": "2025-03-16T15:50:11.714688Z",
     "start_time": "2025-03-16T15:50:11.698987Z"
    },
    "collapsed": false
   },
   "outputs": [
    {
     "data": {
      "text/plain": [
       "'2'"
      ]
     },
     "execution_count": 3,
     "metadata": {},
     "output_type": "execute_result"
    }
   ],
   "source": [
    "client.create_experiment(name=\"my-new-experiment\")"
   ]
  },
  {
   "cell_type": "code",
   "execution_count": 4,
   "id": "e7965358afe3200b",
   "metadata": {
    "ExecuteTime": {
     "end_time": "2025-03-16T15:50:54.398721Z",
     "start_time": "2025-03-16T15:50:54.382003Z"
    },
    "collapsed": false
   },
   "outputs": [],
   "source": [
    "from mlflow.entities import ViewType\n",
    "\n",
    "runs = client.search_runs(\n",
    "    experiment_ids='1',\n",
    "    filter_string=\"metrics.rmse < 100\",\n",
    "    run_view_type=ViewType.ACTIVE_ONLY,\n",
    "    max_results=5,\n",
    "    order_by=[\"metrics.rmse ASC\"]\n",
    ")"
   ]
  },
  {
   "cell_type": "code",
   "execution_count": 5,
   "id": "52681452eed1388",
   "metadata": {
    "ExecuteTime": {
     "end_time": "2025-03-16T15:50:55.055949Z",
     "start_time": "2025-03-16T15:50:55.053464Z"
    },
    "collapsed": false
   },
   "outputs": [
    {
     "name": "stdout",
     "output_type": "stream",
     "text": [
      "run id: abb5c729e391406f87f67a917a549965, rmse: 26.8264\n",
      "run id: e69dd25dfb6e4958956f652442872dcb, rmse: 29.1306\n",
      "run id: fa4abba162144967ab8ca9f9494936d0, rmse: 30.6969\n",
      "run id: b3eedf646f8847d6ace7eb0909985627, rmse: 30.9214\n",
      "run id: 80c80929e9594c808ca9d3b9f184a36e, rmse: 31.2167\n"
     ]
    }
   ],
   "source": [
    "for run in runs:\n",
    "    print(f\"run id: {run.info.run_id}, rmse: {run.data.metrics['rmse']:.4f}\")"
   ]
  },
  {
   "cell_type": "code",
   "execution_count": 6,
   "id": "1364b30512c67b1b",
   "metadata": {
    "ExecuteTime": {
     "end_time": "2025-03-16T15:51:27.949595Z",
     "start_time": "2025-03-16T15:51:27.945794Z"
    },
    "collapsed": false
   },
   "outputs": [],
   "source": [
    "import mlflow\n",
    "\n",
    "mlflow.set_tracking_uri(MLFLOW_TRACKING_URI)"
   ]
  },
  {
   "cell_type": "code",
   "execution_count": 8,
   "id": "181d90df1e449da3",
   "metadata": {
    "collapsed": false
   },
   "outputs": [
    {
     "name": "stderr",
     "output_type": "stream",
     "text": [
      "Registered model 'nyc-taxi-regressor' already exists. Creating a new version of this model...\n",
      "Created version '1' of model 'nyc-taxi-regressor'.\n"
     ]
    },
    {
     "data": {
      "text/plain": [
       "<ModelVersion: aliases=[], creation_timestamp=1747572247352, current_stage='None', description=None, last_updated_timestamp=1747572247352, name='nyc-taxi-regressor', run_id='abb5c729e391406f87f67a917a549965', run_link=None, source='/home/talleyrand/Documents/MLOps/MLOps_CPE393-LabExperimentTrackingMLFlow/homework/mlruns/1/abb5c729e391406f87f67a917a549965/artifacts/model', status='READY', status_message=None, tags={}, user_id=None, version=1>"
      ]
     },
     "execution_count": 8,
     "metadata": {},
     "output_type": "execute_result"
    }
   ],
   "source": [
    "run_id = \"abb5c729e391406f87f67a917a549965\"  #insert your run id\n",
    "model_uri = f\"runs:/{run_id}/model\"\n",
    "mlflow.register_model(model_uri=model_uri, name=\"nyc-taxi-regressor\")"
   ]
  },
  {
   "cell_type": "code",
   "execution_count": 9,
   "id": "7c8686191b00135",
   "metadata": {
    "collapsed": false
   },
   "outputs": [
    {
     "name": "stdout",
     "output_type": "stream",
     "text": [
      "version: 1, stage: None\n"
     ]
    },
    {
     "name": "stderr",
     "output_type": "stream",
     "text": [
      "/tmp/ipykernel_30719/1279244624.py:3: FutureWarning: ``mlflow.tracking.client.MlflowClient.get_latest_versions`` is deprecated since 2.9.0. Model registry stages will be removed in a future major release. To learn more about the deprecation of model registry stages, see our migration guide here: https://mlflow.org/docs/latest/model-registry.html#migrating-from-stages\n",
      "  latest_versions = client.get_latest_versions(name=model_name)\n"
     ]
    }
   ],
   "source": [
    "#check model version and stages\n",
    "model_name = \"nyc-taxi-regressor\"\n",
    "latest_versions = client.get_latest_versions(name=model_name)\n",
    "\n",
    "for version in latest_versions:\n",
    "    print(f\"version: {version.version}, stage: {version.current_stage}\")"
   ]
  },
  {
   "cell_type": "code",
   "execution_count": 10,
   "id": "7d00b45ade1c81c8",
   "metadata": {
    "collapsed": false
   },
   "outputs": [
    {
     "name": "stderr",
     "output_type": "stream",
     "text": [
      "/tmp/ipykernel_30719/1607668102.py:8: FutureWarning: ``mlflow.tracking.client.MlflowClient.transition_model_version_stage`` is deprecated since 2.9.0. Model registry stages will be removed in a future major release. To learn more about the deprecation of model registry stages, see our migration guide here: https://mlflow.org/docs/latest/model-registry.html#migrating-from-stages\n",
      "  client.transition_model_version_stage(\n"
     ]
    },
    {
     "data": {
      "text/plain": [
       "<ModelVersion: aliases=[], creation_timestamp=1747572247352, current_stage='Staging', description=None, last_updated_timestamp=1747572391683, name='nyc-taxi-regressor', run_id='abb5c729e391406f87f67a917a549965', run_link=None, source='/home/talleyrand/Documents/MLOps/MLOps_CPE393-LabExperimentTrackingMLFlow/homework/mlruns/1/abb5c729e391406f87f67a917a549965/artifacts/model', status='READY', status_message=None, tags={}, user_id=None, version=1>"
      ]
     },
     "execution_count": 10,
     "metadata": {},
     "output_type": "execute_result"
    }
   ],
   "source": [
    "# model_version = 4\n",
    "# new_stage = \"Staging\"\n",
    "# # Use client.transition_model_version_stage() function to model to staging.\n",
    "\n",
    "model_version = 1  # ✅ la version que tu viens de créer\n",
    "new_stage = \"Staging\"\n",
    "\n",
    "client.transition_model_version_stage(\n",
    "    name=\"nyc-taxi-regressor\",\n",
    "    version=model_version,\n",
    "    stage=new_stage\n",
    ")\n"
   ]
  },
  {
   "cell_type": "markdown",
   "id": "973a18941abe32fa",
   "metadata": {
    "collapsed": false
   },
   "source": [
    "Comparing versions and selecting the new \"Production\" model\n",
    "In the last section, we will retrieve models registered in the model registry and compare their performance on an unseen test set. The idea is to simulate the scenario in which a deployment engineer has to interact with the model registry to decide whether to update the model version that is in production or not.\n",
    "\n",
    "These are the steps:\n",
    "\n",
    "Load the test dataset, which corresponds to the NYC Green Taxi data from the month of March 2021.\n",
    "Download the DictVectorizer that was fitted using the training data and saved to MLflow as an artifact, and load it with pickle.\n",
    "Preprocess the test set using the DictVectorizer so we can properly feed the regressors.\n",
    "Make predictions on the test set using the model versions that are currently in the \"Staging\" and \"Production\" stages, and compare their performance.\n",
    "Based on the results, update the \"Production\" model version accordingly.\n"
   ]
  }
 ],
 "metadata": {
  "kernelspec": {
   "display_name": "mlflow-env",
   "language": "python",
   "name": "python3"
  },
  "language_info": {
   "codemirror_mode": {
    "name": "ipython",
    "version": 3
   },
   "file_extension": ".py",
   "mimetype": "text/x-python",
   "name": "python",
   "nbconvert_exporter": "python",
   "pygments_lexer": "ipython3",
   "version": "3.12.3"
  }
 },
 "nbformat": 4,
 "nbformat_minor": 5
}
