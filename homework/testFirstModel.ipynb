{
 "cells": [
  {
   "cell_type": "code",
   "execution_count": 1,
   "metadata": {},
   "outputs": [
    {
     "name": "stderr",
     "output_type": "stream",
     "text": [
      "Registered model 'nyc-taxi-regressor' already exists. Creating a new version of this model...\n",
      "Created version '2' of model 'nyc-taxi-regressor'.\n"
     ]
    },
    {
     "data": {
      "text/plain": [
       "<ModelVersion: aliases=[], creation_timestamp=1747572826130, current_stage='None', description=None, last_updated_timestamp=1747572826130, name='nyc-taxi-regressor', run_id='7c5e78cfa8514ac2836afdf68cd7c56f', run_link=None, source='/home/talleyrand/Documents/MLOps/MLOps_CPE393-LabExperimentTrackingMLFlow/homework/mlruns/1/7c5e78cfa8514ac2836afdf68cd7c56f/artifacts/models_mlflow', status='READY', status_message=None, tags={}, user_id=None, version=2>"
      ]
     },
     "execution_count": 1,
     "metadata": {},
     "output_type": "execute_result"
    }
   ],
   "source": [
    "from mlflow.tracking import MlflowClient\n",
    "import mlflow\n",
    "\n",
    "mlflow.set_tracking_uri(\"sqlite:///mlflow.db\")\n",
    "client = MlflowClient()\n",
    "\n",
    "run_id = \"7c5e78cfa8514ac2836afdf68cd7c56f\"\n",
    "model_uri = f\"runs:/{run_id}/models_mlflow\"\n",
    "\n",
    "mlflow.register_model(model_uri=model_uri, name=\"nyc-taxi-regressor\")\n"
   ]
  }
 ],
 "metadata": {
  "kernelspec": {
   "display_name": "mlflow-env",
   "language": "python",
   "name": "python3"
  },
  "language_info": {
   "codemirror_mode": {
    "name": "ipython",
    "version": 3
   },
   "file_extension": ".py",
   "mimetype": "text/x-python",
   "name": "python",
   "nbconvert_exporter": "python",
   "pygments_lexer": "ipython3",
   "version": "3.12.3"
  }
 },
 "nbformat": 4,
 "nbformat_minor": 2
}
